{
 "cells": [
  {
   "cell_type": "markdown",
   "id": "ff2cc595",
   "metadata": {},
   "source": [
    "## Statistical Distributions Code Appendix\n",
    "\n",
    "### Norman Gaussian Distributions:\n",
    "\n",
    "#### Coding Key Words:\n",
    "- rvs: random variates\n",
    "- pdf: probability density function\n",
    "- cdf: cumulative distribution function\n",
    "- ppf: percent point function or percentile (inverse of cdf)\n",
    "\n",
    "#### Normal Distribution Example:\n",
    "\n",
    "#### Required parameters:\n",
    "- loc: mean of the distribution, default loc = 0\n",
    "- scale: standard deviation of the distribution, default scale = 1\n",
    "- size: size of the simulated dataset\n",
    "- x: location for probability calculation\n",
    "- q: lower tail probability for percentile calculation\n",
    "\n",
    "``` Python\n",
    "# Import norm from scipy.stats\n",
    "from scipy.stats import norm\n",
    "\n",
    "# Create a set of random values (1000) that follows N(mu, sigma)\n",
    "n = stats.norm.rvs(loc=mu, scale=sigma, size=1000)\n",
    "\n",
    "# Calculate the probability at x\n",
    "nx = stats.norm.pdf(x=x, loc=mu, scale=sigma)\n",
    "\n",
    "# Calculate the probability equal or less than x\n",
    "nxx = stats.norm.cdf(x=x, loc=mu, scale=sigma)\n",
    "\n",
    "# Calculate the 75th percentile \n",
    "npct = stats.norm.ppf(q=0.75, loc=mu, scale=sigma)\n",
    "```"
   ]
  },
  {
   "cell_type": "code",
   "execution_count": null,
   "id": "1db7dd23",
   "metadata": {
    "ExecuteTime": {
     "end_time": "2021-08-10T16:01:41.800097Z",
     "start_time": "2021-08-10T16:01:39.501884Z"
    }
   },
   "outputs": [],
   "source": [
    "from scipy import stats"
   ]
  },
  {
   "cell_type": "code",
   "execution_count": null,
   "id": "016818a8",
   "metadata": {
    "ExecuteTime": {
     "end_time": "2021-08-08T01:08:45.678602Z",
     "start_time": "2021-08-08T01:08:45.676146Z"
    }
   },
   "outputs": [],
   "source": [
    "mu = 10\n",
    "sigma = 2.5"
   ]
  },
  {
   "cell_type": "code",
   "execution_count": null,
   "id": "535877b6",
   "metadata": {
    "ExecuteTime": {
     "end_time": "2021-08-08T01:09:42.072678Z",
     "start_time": "2021-08-08T01:09:42.068496Z"
    }
   },
   "outputs": [],
   "source": [
    "# Create a set of random values (1000) that follows N(mu, sigma)\n",
    "n = stats.norm.rvs(loc=mu, scale=sigma, size=1000)\n",
    "\n",
    "# Calculate the probability at x\n",
    "nx = stats.norm.pdf(x=8, loc=mu, scale=sigma)\n",
    "\n",
    "# Calculate the probability equal or less than x\n",
    "nxx = stats.norm.cdf(x=10, loc=mu, scale=sigma)\n",
    "\n",
    "# Calculate the 75th percentile \n",
    "npct = stats.norm.ppf(q=0.75, loc=mu, scale=sigma)"
   ]
  },
  {
   "cell_type": "code",
   "execution_count": null,
   "id": "6467d25c",
   "metadata": {
    "ExecuteTime": {
     "end_time": "2021-08-08T01:09:45.532438Z",
     "start_time": "2021-08-08T01:09:45.520876Z"
    }
   },
   "outputs": [],
   "source": [
    "# Check the return objects\n",
    "print(f'Random Sample Values by rvs(): \\n{n}\\n')\n",
    "print(f'Probability Density at x = 8: \\n{nx}\\n')\n",
    "print(f'Cumulative Prbability Density x < 10: \\n{nxx}\\n')\n",
    "print(f'75th Percentile: \\n{npct}\\n')"
   ]
  },
  {
   "cell_type": "code",
   "execution_count": null,
   "id": "6bac95ad",
   "metadata": {
    "ExecuteTime": {
     "end_time": "2021-08-08T01:55:14.095208Z",
     "start_time": "2021-08-08T01:55:13.930724Z"
    }
   },
   "outputs": [],
   "source": [
    "import matplotlib.pyplot as plt\n",
    "plt.hist(n)"
   ]
  },
  {
   "cell_type": "markdown",
   "id": "5b12db6e",
   "metadata": {},
   "source": [
    "### Binomial Distribution:\n",
    "\n",
    "#### Coding Key Words:\n",
    "- rvs: random variates\n",
    "- pmf: probability mass function\n",
    "- cdf: cumulative distribution function\n",
    "- ppf: percent point function or percentile (inverse of cdf)\n",
    "\n",
    "#### Binomial Distribution Example:\n",
    "\n",
    "#### Required parameters:\n",
    "- n: number of trials\n",
    "- p: probability of success\n",
    "- size: size of the simulated dataset\n",
    "- k: number of successes for pmf and cdf calculation, $k \\leq n$\n",
    "- q: lower tail probability for percentile calculation\n",
    "\n",
    "``` Python\n",
    "# Import binom from scipy.stats\n",
    "from scipy.stats import binom\n",
    "\n",
    "# Create a set of random values (1000) that follow the binomial distribution\n",
    "b = stats.binom.rvs(n=n, p=p, size=1000)\n",
    "\n",
    "# Calculate the probability at x\n",
    "bx = stats.binom.pmf(k=k, n=n, p=p)\n",
    "\n",
    "# Calculate the probability equal or less than x\n",
    "bxx = stats.binom.cdf(k=k, n=n, p=p)\n",
    "\n",
    "# Calculate the 75th percentile \n",
    "bpct = stats.binom.ppf(q=0.75, n=n, p=p)\n",
    "```\n"
   ]
  },
  {
   "cell_type": "code",
   "execution_count": null,
   "id": "24ea42a6",
   "metadata": {
    "ExecuteTime": {
     "end_time": "2021-08-10T16:01:52.734850Z",
     "start_time": "2021-08-10T16:01:52.732127Z"
    }
   },
   "outputs": [],
   "source": [
    "# Import binom from scipy.stats\n",
    "from scipy.stats import binom"
   ]
  },
  {
   "cell_type": "code",
   "execution_count": null,
   "id": "379a2b85",
   "metadata": {
    "ExecuteTime": {
     "end_time": "2021-08-10T16:02:28.888895Z",
     "start_time": "2021-08-10T16:02:28.886591Z"
    }
   },
   "outputs": [],
   "source": [
    "# Creating the parameters\n",
    "n = 10\n",
    "p = 0.4\n",
    "k = 5\n",
    "q = 0.75"
   ]
  },
  {
   "cell_type": "code",
   "execution_count": null,
   "id": "c291dec3",
   "metadata": {
    "ExecuteTime": {
     "end_time": "2021-08-10T16:02:54.968444Z",
     "start_time": "2021-08-10T16:02:54.956063Z"
    }
   },
   "outputs": [],
   "source": [
    "# Create a set of random values (1000) that follows binomial distribution\n",
    "b = stats.binom.rvs(n=n, p=p, size=1000)\n",
    "\n",
    "# Calculate the probability at x\n",
    "bx = stats.binom.pmf(k=k, n=n, p=p)\n",
    "\n",
    "# Calculate the probability equal or less than x\n",
    "bxx = stats.binom.cdf(k=k, n=n, p=p)\n",
    "\n",
    "# Calculate the 75th percentile \n",
    "bpct = stats.binom.ppf(q=q, n=n, p=p)"
   ]
  },
  {
   "cell_type": "code",
   "execution_count": null,
   "id": "d963e97f",
   "metadata": {
    "ExecuteTime": {
     "end_time": "2021-08-10T16:02:57.851707Z",
     "start_time": "2021-08-10T16:02:57.846349Z"
    }
   },
   "outputs": [],
   "source": [
    "# Check the return objects\n",
    "print(f'Random Sample Value: {b}\\n')\n",
    "print(f'Probability Mass for 5 success out of 10 trials: {bx}\\n')\n",
    "print(f'Cumulative Probability Mass for 5 or less success out of 10 trials: {bxx}\\n')\n",
    "print(f'75th Percentile: {bpct}\\n')"
   ]
  },
  {
   "cell_type": "code",
   "execution_count": null,
   "id": "25ddf621",
   "metadata": {},
   "outputs": [],
   "source": [
    "import matplotlib.pyplot as plt\n",
    "plt.hist(b)"
   ]
  },
  {
   "cell_type": "markdown",
   "id": "e9f7af98",
   "metadata": {},
   "source": [
    "### Measure Skewness and Kurtosis of the Dataset\n",
    "\n",
    "``` Python\n",
    "# Import scipy\n",
    "import scipy as stats\n",
    "\n",
    "# Check the skewness of a dataset\n",
    "stats.skew(dataset)\n",
    "\n",
    "# Check the kurtosis of a dataset\n",
    "stats.kurtosis(dataset)\n",
    "```"
   ]
  },
  {
   "cell_type": "code",
   "execution_count": null,
   "id": "47aad314",
   "metadata": {},
   "outputs": [],
   "source": []
  }
 ],
 "metadata": {
  "hide_input": false,
  "kernelspec": {
   "display_name": "Python 3",
   "language": "python",
   "name": "python3"
  },
  "language_info": {
   "codemirror_mode": {
    "name": "ipython",
    "version": 3
   },
   "file_extension": ".py",
   "mimetype": "text/x-python",
   "name": "python",
   "nbconvert_exporter": "python",
   "pygments_lexer": "ipython3",
   "version": "3.8.8"
  },
  "latex_envs": {
   "LaTeX_envs_menu_present": true,
   "autoclose": false,
   "autocomplete": true,
   "bibliofile": "biblio.bib",
   "cite_by": "apalike",
   "current_citInitial": 1,
   "eqLabelWithNumbers": true,
   "eqNumInitial": 1,
   "hotkeys": {
    "equation": "Ctrl-E",
    "itemize": "Ctrl-I"
   },
   "labels_anchors": false,
   "latex_user_defs": false,
   "report_style_numbering": false,
   "user_envs_cfg": false
  },
  "nbTranslate": {
   "displayLangs": [
    "*"
   ],
   "hotkey": "alt-t",
   "langInMainMenu": true,
   "sourceLang": "en",
   "targetLang": "fr",
   "useGoogleTranslate": true
  },
  "toc": {
   "base_numbering": 1,
   "nav_menu": {},
   "number_sections": true,
   "sideBar": true,
   "skip_h1_title": false,
   "title_cell": "Table of Contents",
   "title_sidebar": "Contents",
   "toc_cell": false,
   "toc_position": {},
   "toc_section_display": true,
   "toc_window_display": false
  }
 },
 "nbformat": 4,
 "nbformat_minor": 5
}
